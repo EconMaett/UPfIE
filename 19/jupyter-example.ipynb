{
 "cells": [
  {
   "cell_type": "markdown",
   "metadata": {},
   "source": [
    "# Working with Jupyter Notebook\n",
    "The following example is based on Script ``Descr-Figures`` from Chapter 2 and \n",
    "demonstrates the use of **Jupyter Notebooks** to document your work step by step. \n",
    "We will describe the two most important building blocks:\n",
    "\n",
    "* basic Markdown commands to format your text in ``Markdown`` cells\n",
    "* how to import and run Python code in ``Code`` cells\n",
    "\n",
    "## Import and Prepare Data\n",
    "Let's start by importing all external modules:"
   ]
  },
  {
   "cell_type": "code",
   "execution_count": 1,
   "metadata": {},
   "outputs": [],
   "source": [
    "import wooldridge as woo\n",
    "import numpy as np\n",
    "import pandas as pd\n",
    "import matplotlib.pyplot as plt"
   ]
  },
  {
   "cell_type": "markdown",
   "metadata": {},
   "source": [
    "In the next step, we import our data and define important variables:"
   ]
  },
  {
   "cell_type": "code",
   "execution_count": 2,
   "metadata": {},
   "outputs": [],
   "source": [
    "affairs = woo.dataWoo('affairs')\n",
    "\n",
    "# use a pandas.Categorical object to attach labels:\n",
    "affairs['haskids'] = pd.Categorical.from_codes(affairs['kids'], \n",
    "                                               categories=['no', 'yes'])\n",
    "counts = affairs['haskids'].value_counts()"
   ]
  },
  {
   "cell_type": "markdown",
   "metadata": {},
   "source": [
    "## Analyse Data\n",
    "### View your Data\n",
    "To get an overview you could use ``affairs.head()``. \n",
    "\n",
    "### Calculate Descriptive Statistics\n",
    "Up to this point, the code cells above produced no output. \n",
    "This will change now, as we are interested in some results. \n",
    "Let's start with printing out the average age. We start with\n",
    "its definition and use LaTeX to enter the equation:\n",
    "$$ \\bar{x} = \\frac{1}{N} \\sum_{i=1}^N x_{i} $$\n",
    "The resulting Python code gives:"
   ]
  },
  {
   "cell_type": "code",
   "execution_count": 4,
   "metadata": {},
   "outputs": [
    {
     "name": "stdout",
     "output_type": "stream",
     "text": [
      "32.48752079866888\n"
     ]
    }
   ],
   "source": [
    "age_mean = np.mean(affairs['age'])\n",
    "print(age_mean)"
   ]
  },
  {
   "cell_type": "markdown",
   "metadata": {},
   "source": [
    "### Produce Graphic Results\n",
    "In Chapter 2, we saw how to produce a pie chart. Let's repeat it here:"
   ]
  },
  {
   "cell_type": "code",
   "execution_count": 5,
   "metadata": {},
   "outputs": [
    {
     "data": {
      "image/png": "[encoded data removed]",
      "text/plain": [
       "<Figure size 432x288 with 1 Axes>"
      ]
     },
     "metadata": {},
     "output_type": "display_data"
    }
   ],
   "source": [
    "plot = plt.pie(counts, labels=['no', 'yes'])"
   ]
  },
  {
   "cell_type": "markdown",
   "metadata": {},
   "source": [
    "You can also show Python code without executing it. You can use ``inline code``, or for longer paragraphs \n",
    "```python\n",
    "plt.bar(['no', 'yes'], counts, color='dimgrey')\n",
    "```"
   ]
  }
 ],
 "metadata": {
  "kernelspec": {
   "display_name": "Python 3",
   "language": "python",
   "name": "python3"
  },
  "language_info": {
   "codemirror_mode": {
    "name": "ipython",
    "version": 3
   },
   "file_extension": ".py",
   "mimetype": "text/x-python",
   "name": "python",
   "nbconvert_exporter": "python",
   "pygments_lexer": "ipython3",
   "version": "3.7.6"
  }
 },
 "nbformat": 4,
 "nbformat_minor": 2
}
